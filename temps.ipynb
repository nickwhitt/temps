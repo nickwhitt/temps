{
 "cells": [
  {
   "attachments": {},
   "cell_type": "markdown",
   "metadata": {},
   "source": [
    "# Minimal Database Mapping with SQLAlchemy\n",
    "\n",
    "You don't always need a framework-integrated database solution. Sometimes, the simpler solution offers better performance with less resources."
   ]
  },
  {
   "attachments": {},
   "cell_type": "markdown",
   "metadata": {},
   "source": [
    "Modern frameworks often come with an in-house database modeling solution; such as Laravel's [Eloquent](https://laravel.com/docs/9.x/eloquent), Rails' [Active Record](https://guides.rubyonrails.org/active_record_basics.html), or Django's [Model](https://docs.djangoproject.com/en/4.1/topics/db/models/). While convenient, these ORM solutions aren't always the most efficeient design; especially if used within environments of complex schemas and/or joined database entities. In these situations, as with simple or non-framework applications, a domain language toolkit such as SQLAlchemy could be worth consideration."
   ]
  },
  {
   "attachments": {},
   "cell_type": "markdown",
   "metadata": {},
   "source": [
    "## Weather Feed\n",
    "\n",
    "Let's consider a simple application capable of storing weather data from various hardware devices. These \"feeders\" will all send a timestamped data packet which our applicaiton will record into a relational database store. We'll use the application to provide generic reports. The implementation of this application, as well as the feeders, is outside the scope of this post, but let's consider how SQLAlchemy could be used for database support.\n",
    "\n",
    "## Start Your Engine\n",
    "\n",
    "SQLAlchemy provides two foundational solutions: a Core toolkit which provides database engine and query support, and an ORM extension to provide python mappings between database entities and application-defined objects. We'll begin with a solution using only the Core toolkit, then show how to build on this with ORM objects.\n",
    "\n",
    "To connect with our database, we first need to configure the Engine: a resource pool in our global namespace which can be used to provide local DBAPI connections throughout the rest of our application. To keep the example simple, we'll configure an in-memory SQLite instance."
   ]
  },
  {
   "cell_type": "code",
   "execution_count": 68,
   "metadata": {},
   "outputs": [],
   "source": [
    "import sqlalchemy as sa\n",
    "engine = sa.create_engine(\"sqlite:///temps.db\", echo=True, future=True)"
   ]
  },
  {
   "attachments": {},
   "cell_type": "markdown",
   "metadata": {},
   "source": [
    "Note: The optional flag `create_engine.echo` provides generic debug logging of generated SQL commands, greatly improving development feedback for local scripting. The `create_engine.future` flag gives us access to upcoming 2.0 syntax within SQLAlchemy. This is primarily of interest to existing sites looking to move from 1.x to 2.x API calls."
   ]
  },
  {
   "attachments": {},
   "cell_type": "markdown",
   "metadata": {},
   "source": [
    "## Schema Catalog\n",
    "\n",
    "We next need to define our database schema within a SQLAlchemy `MetaData` catalog; similar to our `engine` resource pool, this will be a global object within our application, and allows us to interact with all database entities via the `engine` pool."
   ]
  },
  {
   "cell_type": "code",
   "execution_count": 69,
   "metadata": {},
   "outputs": [],
   "source": [
    "metadata = sa.MetaData()\n",
    "\n",
    "feeders = sa.Table(\n",
    "    \"feeders\",\n",
    "    metadata,\n",
    "    sa.Column(\"id\", sa.Integer, primary_key=True),\n",
    "    sa.Column(\"name\", sa.Text),\n",
    "    sa.Column(\"lat\", sa.Float),\n",
    "    sa.Column(\"long\", sa.Float)\n",
    ")\n",
    "\n",
    "temps = sa.Table(\n",
    "    \"temps\",\n",
    "    metadata,\n",
    "    sa.Column(\"id\", sa.Integer, primary_key=True),\n",
    "    sa.Column(\"feeder_id\", sa.ForeignKey(\"feeders.id\")),\n",
    "    sa.Column(\"ts\", sa.DateTime, nullable=False),\n",
    "    sa.Column(\"celsius\", sa.Float),\n",
    "    sa.Column(\"condition\", sa.Text())\n",
    ")"
   ]
  },
  {
   "attachments": {},
   "cell_type": "markdown",
   "metadata": {},
   "source": [
    "With our schemas defined in code, we can generate engine-specific DDL creation statements using the following command:"
   ]
  },
  {
   "cell_type": "code",
   "execution_count": null,
   "metadata": {},
   "outputs": [],
   "source": [
    "metadata.create_all(engine)"
   ]
  },
  {
   "attachments": {},
   "cell_type": "markdown",
   "metadata": {},
   "source": [
    "```sql\n",
    "BEGIN (implicit)\n",
    "PRAGMA main.table_info(\"feeders\")\n",
    "...\n",
    "PRAGMA main.table_info(\"temps\")\n",
    "...\n",
    "CREATE TABLE feeders (\n",
    "\tid INTEGER NOT NULL, \n",
    "\tname TEXT, \n",
    "\tlat FLOAT, \n",
    "\tlong FLOAT, \n",
    "\tPRIMARY KEY (id)\n",
    ")\n",
    "...\n",
    "CREATE TABLE temps (\n",
    "\tid INTEGER NOT NULL, \n",
    "\tfeeder_id INTEGER, \n",
    "\tts DATETIME NOT NULL, \n",
    "\tcelsius FLOAT, \n",
    "\tcondition TEXT, \n",
    "\tPRIMARY KEY (id), \n",
    "\tFOREIGN KEY(feeder_id) REFERENCES feeders (id)\n",
    ")\n",
    "...\n",
    "COMMIT\n",
    "```"
   ]
  },
  {
   "cell_type": "markdown",
   "metadata": {},
   "source": [
    "For example, our application might have a dedicated function to receive feeder data packets as such:"
   ]
  },
  {
   "cell_type": "code",
   "execution_count": 71,
   "metadata": {},
   "outputs": [],
   "source": [
    "def store_packet(feeder_id, data):\n",
    "    with engine.begin() as conn:\n",
    "        conn.execute(temps.insert(), dict(feeder_id=feeder_id, **data))\n",
    "        # implicit conn.commit() if no error"
   ]
  },
  {
   "cell_type": "code",
   "execution_count": null,
   "metadata": {},
   "outputs": [],
   "source": [
    "from datetime import datetime\n",
    "\n",
    "store_packet(1, dict(ts=datetime.now(), celsius=24.5, condition=\"overcast\"))"
   ]
  },
  {
   "attachments": {},
   "cell_type": "markdown",
   "metadata": {},
   "source": [
    "## Reporting via Query"
   ]
  },
  {
   "cell_type": "code",
   "execution_count": 74,
   "metadata": {},
   "outputs": [
    {
     "name": "stdout",
     "output_type": "stream",
     "text": [
      "2022-12-19 15:59:24,114 INFO sqlalchemy.engine.Engine BEGIN (implicit)\n",
      "2022-12-19 15:59:24,114 INFO sqlalchemy.engine.Engine SELECT min(temps.celsius) AS min_1 \n",
      "FROM temps \n",
      "WHERE temps.feeder_id = ? AND temps.ts BETWEEN ? AND ?\n",
      "2022-12-19 15:59:24,114 INFO sqlalchemy.engine.Engine [cached since 66.6s ago] (1, '2022-12-19 00:00:00.000000', '2022-12-19 15:59:24.113971')\n",
      "2022-12-19 15:59:24,115 INFO sqlalchemy.engine.Engine ROLLBACK\n"
     ]
    },
    {
     "data": {
      "text/plain": [
       "24.0"
      ]
     },
     "execution_count": 74,
     "metadata": {},
     "output_type": "execute_result"
    }
   ],
   "source": [
    "def low_by_date(feeder, ts_start, ts_end=None):\n",
    "    with engine.connect() as conn:\n",
    "        query = sa.select(sa.func.min(temps.c.celsius)).where(\n",
    "            temps.c.feeder_id == feeder,\n",
    "            temps.c.ts.between(ts_start, ts_end or datetime.now())\n",
    "        )\n",
    "\n",
    "        return conn.execute(query).scalar()\n",
    "\n",
    "low_by_date(1, datetime(2022, 12, 19))\n",
    "# 24.0"
   ]
  },
  {
   "attachments": {},
   "cell_type": "markdown",
   "metadata": {},
   "source": [
    "```sql\n",
    "BEGIN (implicit)\n",
    "SELECT min(temps.celsius) AS min_1\n",
    "FROM temps\n",
    "WHERE temps.feeder_id = ? AND temps.ts BETWEEN ? AND ?\n",
    "...\n",
    "ROLLBACK\n",
    "```"
   ]
  }
 ],
 "metadata": {
  "kernelspec": {
   "display_name": ".venv",
   "language": "python",
   "name": "python3"
  },
  "language_info": {
   "codemirror_mode": {
    "name": "ipython",
    "version": 3
   },
   "file_extension": ".py",
   "mimetype": "text/x-python",
   "name": "python",
   "nbconvert_exporter": "python",
   "pygments_lexer": "ipython3",
   "version": "3.10.8"
  },
  "orig_nbformat": 4,
  "vscode": {
   "interpreter": {
    "hash": "dedf7aec29afb6407495cba888504472cadfb33154d8ba186f4e7706ea8eaf2e"
   }
  }
 },
 "nbformat": 4,
 "nbformat_minor": 2
}
